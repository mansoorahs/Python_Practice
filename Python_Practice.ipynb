{
    "cells": [
        {
            "cell_type": "code",
            "execution_count": 38,
            "metadata": {},
            "outputs": [
                {
                    "name": "stdout",
                    "output_type": "stream",
                    "text": "\n---- animal tests ----\nanimal: None:4\n4\nanimal: fluffy:4\nanimal: :4\n"
                }
            ],
            "source": "class Animal(object):\n    def __init__(self, age):\n        self.age = age\n        self.name = None\n    def get_age(self):\n        return self.age\n    def get_name(self):\n        return self.name\n    def set_age(self, newAge):\n        self.age = newAge\n    def set_name(self, newname=\"\"):\n        self.name = newname\n    def __str__(self):\n        return \"animal: \"+str(self.name)+\":\"+str(self.age)\n\nprint(\"\\n---- animal tests ----\")\na = Animal(4)\nprint(a)\nprint(a.get_age())\na.set_name(\"fluffy\")\nprint(a)\na.set_name()\nprint(a)"
        }
    ],
    "metadata": {
        "kernelspec": {
            "display_name": "Python 3.6",
            "language": "python",
            "name": "python3"
        },
        "language_info": {
            "codemirror_mode": {
                "name": "ipython",
                "version": 3
            },
            "file_extension": ".py",
            "mimetype": "text/x-python",
            "name": "python",
            "nbconvert_exporter": "python",
            "pygments_lexer": "ipython3",
            "version": "3.6.9"
        }
    },
    "nbformat": 4,
    "nbformat_minor": 1
}