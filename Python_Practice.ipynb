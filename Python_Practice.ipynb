{
    "cells": [
        {
            "cell_type": "code",
            "execution_count": 1,
            "metadata": {},
            "outputs": [
                {
                    "name": "stdout",
                    "output_type": "stream",
                    "text": "\n---- animal tests ----\nanimal: None:4\n4\nanimal: fluffy:4\nanimal: :4\n"
                }
            ],
            "source": "class Animal(object):\n    def __init__(self, age):\n        self.age = age\n        self.name = None\n    def get_age(self):\n        return self.age\n    def get_name(self):\n        return self.name\n    def set_age(self, newAge):\n        self.age = newAge\n    def set_name(self, newname=\"\"):\n        self.name = newname\n    def __str__(self):\n        return \"animal: \"+str(self.name)+\":\"+str(self.age)\n\nprint(\"\\n---- animal tests ----\")\na = Animal(4)\nprint(a)\nprint(a.get_age())\na.set_name(\"fluffy\")\nprint(a)\na.set_name()\nprint(a)"
        },
        {
            "cell_type": "code",
            "execution_count": 2,
            "metadata": {},
            "outputs": [],
            "source": "class Cat (Animal):\n    def speak(self):\n        print (\"Meow\")\n    def __str__ (self):\n        return \"Cat: \"+str(self.name)+\":\"+str(self.age)\n    "
        },
        {
            "cell_type": "code",
            "execution_count": 18,
            "metadata": {},
            "outputs": [],
            "source": "class Person(Animal):\n    def __init__(self, name, age):\n        Animal.__init__(self, age)\n        self.set_name(name)\n        self.friends = []\n    def get_friends(self):\n        return self.friends\n    def add_friend(self, fname):\n        if fname not in self.friends:\n            self.friends.append(fname)\n    def speak(self):\n        print (\"I speak Hello\")\n    def age_diff(self, other):\n        diff = self.age - other.age\n        print (abs(diff), \" years difference\")\n    def __str__(self):\n        return \"Person: \"+str(self.name) + \" : \" + str(self.age)\n    "
        },
        {
            "cell_type": "code",
            "execution_count": 11,
            "metadata": {
                "scrolled": true
            },
            "outputs": [
                {
                    "name": "stdout",
                    "output_type": "stream",
                    "text": "Jack 30\nJill 25\nPerson: Jack : 30\nPerson: Jill : 25\nI speak Hello\n5  years difference\n"
                }
            ],
            "source": "p1 = Person(\"Jack\", 30)\np2 = Person(\"Jill\", 25)\n\nprint (p1.get_name(), p1.get_age())\nprint (p2.get_name(), p2.get_age())\n\nprint (p1)\nprint (p2)\n\np1.speak()\np1.age_diff(p2)"
        },
        {
            "cell_type": "code",
            "execution_count": 30,
            "metadata": {},
            "outputs": [],
            "source": "import random\nclass Student(Person):\n    def __init__(self, name, age, major=None):\n        Person.__init__(self, name, age)\n        self.major = major\n    def change_major(self, major):\n        self.major = major\n    def speak(self):\n        r = random.random()\n        if r < 0.5:\n            print (\"I have home work\", r)\n        elif 0.25 <= r < 0.5:\n            print (\"I need sleep\", r)\n        elif 0.50 <= r < 0.75:\n            print (\"I should eat\", r)\n        else:\n            print(\"I am watching TV\", r)\n    def __str__(self):\n        return \"Student: \" + str(self.name) + \":\" + str(self.age) + \":\" + str(self.major)\n    "
        },
        {
            "cell_type": "code",
            "execution_count": 36,
            "metadata": {},
            "outputs": [
                {
                    "name": "stdout",
                    "output_type": "stream",
                    "text": "Student: alice:20:CS\nStudent: beth:18:None\nI am watching TV 0.8425446143368278\nI am watching TV 0.8880823497530032\n"
                }
            ],
            "source": "S1 = Student('alice', 20, \"CS\")\nS2 = Student('beth', 18)\nprint (S1)\nprint (S2)\n\nS1.speak()\nS2.speak()"
        },
        {
            "cell_type": "code",
            "execution_count": 40,
            "metadata": {},
            "outputs": [],
            "source": "class Rabbit (Animal):\n    tag = 1\n    def __init__(self, age, parent1=None,parent2=None ):\n        Animal.__init__(self, age)\n        self.parent1 = parent1\n        self.parent2 = parent2\n        self.rid =  Rabbit.tag\n        Rabbit.tag += 1"
        },
        {
            "cell_type": "code",
            "execution_count": 41,
            "metadata": {},
            "outputs": [],
            "source": "r1 = Rabbit(4)"
        },
        {
            "cell_type": "code",
            "execution_count": 42,
            "metadata": {},
            "outputs": [
                {
                    "data": {
                        "text/plain": "<__main__.Rabbit at 0x7fd64c1f6160>"
                    },
                    "execution_count": 42,
                    "metadata": {},
                    "output_type": "execute_result"
                }
            ],
            "source": "r1"
        },
        {
            "cell_type": "code",
            "execution_count": null,
            "metadata": {},
            "outputs": [],
            "source": ""
        }
    ],
    "metadata": {
        "kernelspec": {
            "display_name": "Python 3.6",
            "language": "python",
            "name": "python3"
        },
        "language_info": {
            "codemirror_mode": {
                "name": "ipython",
                "version": 3
            },
            "file_extension": ".py",
            "mimetype": "text/x-python",
            "name": "python",
            "nbconvert_exporter": "python",
            "pygments_lexer": "ipython3",
            "version": "3.6.9"
        }
    },
    "nbformat": 4,
    "nbformat_minor": 1
}